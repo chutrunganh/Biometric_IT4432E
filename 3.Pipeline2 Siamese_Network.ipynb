{
 "cells": [
  {
   "cell_type": "markdown",
   "metadata": {},
   "source": [
    "# Part 1: Setup Project\n",
    "\n",
    "## Objective\n",
    "\n",
    "General setup:\n",
    "\n",
    "- Install dependencies, import TensorFlow Layers\n",
    "- Config GPU\n"
   ]
  },
  {
   "cell_type": "markdown",
   "metadata": {},
   "source": [
    "## 1.1 Install and import dependencies, set up camera"
   ]
  },
  {
   "cell_type": "code",
   "execution_count": 1,
   "metadata": {},
   "outputs": [],
   "source": [
    "import cv2 # OpenCV\n",
    "import os  # For file operations\n",
    "import random\n",
    "import numpy as np\n",
    "from matplotlib import pyplot as plt # For plotting graphs\n",
    "from mtcnn.mtcnn import MTCNN\n",
    "from numpy import savez_compressed\n",
    "from PIL import Image"
   ]
  },
  {
   "cell_type": "code",
   "execution_count": 2,
   "metadata": {},
   "outputs": [],
   "source": [
    "# Import TensorFlow dependencies\n",
    "from tensorflow.keras.models import Model\n",
    "from tensorflow.keras.layers import Layer, Conv2D, MaxPooling2D,  Dense, MaxPool2D, Flatten, Input\n",
    "import tensorflow as tf\n"
   ]
  },
  {
   "cell_type": "markdown",
   "metadata": {},
   "source": [
    "The purpose of each Layer:\n",
    "\n",
    "- Conv2D for Convolutional Neural Networks to extract features from the input images\n",
    "- Dense for Fully Connected Neural Networks\n",
    "- MaxPooling2D to pull our layers together and effectively reduce the number of parameters and computations in the network\n",
    "- Flatten take output from previous layer and flatten it to a vector to be fed into the next layer"
   ]
  },
  {
   "cell_type": "markdown",
   "metadata": {},
   "source": [
    "## 1.2 Setup GPU Limit for TensorFlow"
   ]
  },
  {
   "cell_type": "code",
   "execution_count": 3,
   "metadata": {},
   "outputs": [],
   "source": [
    "# Avoid Memory Error when TensorFlow use two much VRAM\n",
    "gpus = tf.config.experimental.list_physical_devices('GPU')\n",
    "for gpu in gpus:\n",
    "    tf.config.experimental.set_memory_growth(gpu, True)"
   ]
  },
  {
   "cell_type": "code",
   "execution_count": 4,
   "metadata": {},
   "outputs": [
    {
     "data": {
      "text/plain": [
       "[]"
      ]
     },
     "execution_count": 4,
     "metadata": {},
     "output_type": "execute_result"
    }
   ],
   "source": [
    "gpus # Show all GPUs available in machine"
   ]
  },
  {
   "cell_type": "markdown",
   "metadata": {},
   "source": [
    "# Part 2: Load Preprocess Data and create training data \n",
    "## Objective\n",
    "\n",
    "- Create positive and negative pairs with their labels from preprocessed data\n"
   ]
  },
  {
   "cell_type": "markdown",
   "metadata": {},
   "source": [
    "## 2.1 Create pairs and labels for dataset"
   ]
  },
  {
   "cell_type": "markdown",
   "metadata": {},
   "source": [
    "The Siamese network is integrated with preprocessing steps already, witohut sharing with the `DataPreprocessing.ipynb` notebook due to the approach of the model.\n",
    "\n",
    "The process will be quite similar to the `DataPreprocessing.ipynb` notebook, but there will be some differences after the face detection step. \n",
    "\n",
    "In the `DataPreprocessing.ipynb` notebook, we used a pre train model to extract the the face embeddings. Just calling and it will do the job (aka, use model to give the prediction without training since it already pretrain model). However, in this Siamase Network, we even try to train the model how to extract these features.\n",
    "\n",
    "\n",
    "\n",
    "\n",
    "Data organized into pairs:\n",
    "\n",
    "     - Positive pairs: Two images of the same person\n",
    "     - Negative pairs: Two images of different people\n",
    "     \n",
    "   - Training Process:\n",
    "     - Network learns feature extraction from scratch\n",
    "     - Pairs are fed through identical twin networks\n",
    "     - Distance between feature vectors is computed\n",
    "     - Loss function:\n",
    "       * Minimizes distance for positive pairs\n",
    "       * Maximizes distance for negative pairs\n",
    "     - **Network iteratively improves feature extraction based on distance metrics**\n",
    "\n"
   ]
  },
  {
   "cell_type": "code",
   "execution_count": 5,
   "metadata": {},
   "outputs": [
    {
     "name": "stdout",
     "output_type": "stream",
     "text": [
      "Number of pairs: 632\n",
      "Number of positive pairs: 492\n",
      "Number of negative pairs: 140\n",
      "Shape of training data: (632, 200, 100, 3)\n",
      "Shape of labels: (632,)\n"
     ]
    }
   ],
   "source": [
    "# Now we create positive and negative pairs for the Siamese network\n",
    "\n",
    "\n",
    "# Load face images from the .npz files\n",
    "# Parameters:\n",
    "# face_dir: directory containing the face images\n",
    "def load_faces(face_dir):\n",
    "    faces_dict = {}\n",
    "    for subfolder in os.listdir(face_dir):  # Process each subfolder/person\n",
    "        subfolder_path = os.path.join(face_dir, subfolder)\n",
    "        if os.path.isdir(subfolder_path):\n",
    "            data = np.load(os.path.join(subfolder_path, 'faces.npz'))\n",
    "            faces = data['arr_0']\n",
    "            faces_dict[subfolder] = faces\n",
    "    return faces_dict  # Dictionary with key: person name, value: face images\n",
    "\n",
    "# Create pairs of face images and corresponding labels\n",
    "# Parameters: \n",
    "# faces_dict: dictionary containing face images of each person\n",
    "# num_negative_samples: number of negative samples to create for each positive pair\n",
    "# num_subfolders_to_sample: number of subfolders to sample for negative pairs\n",
    "def create_pairs(faces_dict, num_negative_samples=5, num_subfolders_to_sample=3):\n",
    "    pairs = []\n",
    "    labels = []\n",
    "    persons = list(faces_dict.keys())\n",
    "    \n",
    "    # Create positive pairs\n",
    "    for person in persons:\n",
    "        faces = faces_dict[person]\n",
    "        for i in range(len(faces)):\n",
    "            for j in range(i + 1, len(faces)):\n",
    "                pairs.append([faces[i], faces[j]])\n",
    "                labels.append(1)\n",
    "    \n",
    "    # Create negative pairs with random sampling\n",
    "    for person in persons:\n",
    "        faces = faces_dict[person]\n",
    "        other_persons = [p for p in persons if p != person]\n",
    "        sampled_persons = random.sample(other_persons, min(num_subfolders_to_sample, len(other_persons)))\n",
    "        \n",
    "        for face in faces:\n",
    "            for sampled_person in sampled_persons:\n",
    "                sampled_faces = faces_dict[sampled_person]\n",
    "                sampled_negative_faces = random.sample(list(sampled_faces), min(num_negative_samples, len(sampled_faces)))\n",
    "                \n",
    "                for neg_face in sampled_negative_faces:\n",
    "                    pairs.append([face, neg_face])\n",
    "                    labels.append(0)\n",
    "    \n",
    "    return np.array(pairs), np.array(labels)\n",
    "\n",
    "# Load face images\n",
    "face_dir = './preprocessed_data(for_Siamese)/face_detect'\n",
    "faces_dict = load_faces(face_dir)\n",
    "\n",
    "# Create pairs and labels with random sampling for negative pairs\n",
    "pairs, labels = create_pairs(faces_dict, num_negative_samples=1, num_subfolders_to_sample=1)\n",
    "print(\"Number of pairs:\", len(pairs))\n",
    "print(\"Number of positive pairs:\", sum(labels))  # since positive pairs are labeled as 1, negative are 0, 0 + 1 = 1\n",
    "print(\"Number of negative pairs:\", len(labels) - sum(labels))\n",
    "\n",
    "# Prepare data\n",
    "X = np.array([np.concatenate(pair) for pair in pairs])\n",
    "y = labels\n",
    "\n",
    "print(\"Shape of training data:\", X.shape)\n",
    "print(\"Shape of labels:\", y.shape)\n",
    "\n",
    "\n",
    "\n"
   ]
  },
  {
   "cell_type": "markdown",
   "metadata": {},
   "source": [
    "The output `Shape of training data: (46, 320, 160, 3)` provides information about the dimensions of your training dataset. Here's a breakdown of what each number represents:\n",
    "\n",
    "- 46: This is the number of samples in your training dataset. In this case, you have 46 images.\n",
    "\n",
    "- 200: This is the height of 2 image in pixels. Since we are handling 2 images in each pair\n",
    "\n",
    "- 100: This is the width of each image in pixels. Each image in your dataset is 160 pixels wide.\n",
    "\n",
    "- 3: This represents the number of color channels in each image. Typically, 3 channels correspond to the RGB color model (Red, Green, Blue) or BRG color model (Blue, Red, Green).\n",
    "\n",
    "Each pairs is now coontain an anchor image and a validation image. If the validation image is the same person with the anchor image (call as positive image), the label is 1, otherwise, call as negative image, the label is 0.\n",
    "\n",
    "\n",
    "Please  pay attendtion to the `num_negative_samples` and `num_subfolders_to_sample` parameters. Choose some values that the balance between the positive and negative samples, otherwise, the model will be biased to the negative samples. Or you can use some techinique to balance the dataset, such as oversampling, undersampling, etc."
   ]
  },
  {
   "cell_type": "code",
   "execution_count": 6,
   "metadata": {},
   "outputs": [
    {
     "name": "stdout",
     "output_type": "stream",
     "text": [
      "Anchor images shape: (16, 100, 100, 3)\n",
      "Validation images shape: (16, 100, 100, 3)\n",
      "Labels shape: (16,)\n"
     ]
    }
   ],
   "source": [
    "# Convert pairs and labels to TensorFlow datasets\n",
    "# From each pair of images(contains an anchor image + a validation image) and the corresponding label, create a TensorFlow dataset\n",
    "data = tf.data.Dataset.from_tensor_slices((pairs,y))\n",
    "\n",
    "# Shuffle and batch the dataset\n",
    "BATCH_SIZE = 16\n",
    "data = data.shuffle(buffer_size=1024).batch(BATCH_SIZE)\n",
    "\n",
    "# Prefetch to improve performance\n",
    "data = data.prefetch(buffer_size=tf.data.experimental.AUTOTUNE)\n",
    "\n",
    "# Print the dataset\n",
    "for example_pairs, example_labels in data.take(1):\n",
    "    anchor_images, validation_images = example_pairs[:, 0], example_pairs[:, 1]\n",
    "    print(\"Anchor images shape:\", anchor_images.shape)\n",
    "    print(\"Validation images shape:\", validation_images.shape)\n",
    "    print(\"Labels shape:\", example_labels.shape)"
   ]
  },
  {
   "cell_type": "markdown",
   "metadata": {},
   "source": [
    "The output describes the shapes of the data and labels in a batch for a Siamese Network, which is typically used for tasks like image similarity or verification.\n",
    "\n",
    "1. **Shape of pairs in a batch: (16, 2, 160, 160, 3)**\n",
    "   - **16**: The batch size, meaning there are 16 pairs of images in each batch. Each pair/sample consists of two images and a label.\n",
    "        - **2**: Each pair consists of 2 images.\n",
    "        - **160, 160**: The height and width of each image, respectively.\n",
    "        - **3**: The number of color channels in each image (usually RGB).\n",
    "\n",
    "   So, each batch contains 16 pairs of images, and each image in the pair has a size of 160x160 pixels with 3 color channels.\n",
    "\n",
    "2. **Shape of labels in a batch: (16,)**\n",
    "   - **16**: The batch size, meaning there are 16 labels corresponding to the 16 pairs of images.\n",
    "\n",
    "   Each label typically indicates whether the images in the pair are similar (e.g., 1) or dissimilar (e.g., 0).\n",
    "\n",
    "In summary, each batch contains 16 pairs of images, and each image is 160x160 pixels with 3 color channels. There are also 16 labels, one for each pair, indicating the similarity between the images in the pair."
   ]
  },
  {
   "cell_type": "code",
   "execution_count": 7,
   "metadata": {},
   "outputs": [
    {
     "name": "stdout",
     "output_type": "stream",
     "text": [
      "Labels in the batch: [1 1 1 1 0 1 1 1 1 1 1 0 1 1 1 1]\n"
     ]
    }
   ],
   "source": [
    "# Print out some labels of the dataset to see it it is well mixed yet\n",
    "\n",
    "for pair, label in data.take(1):\n",
    "    print(\"Labels in the batch:\", label.numpy())\n",
    "    "
   ]
  },
  {
   "cell_type": "code",
   "execution_count": 8,
   "metadata": {},
   "outputs": [
    {
     "name": "stdout",
     "output_type": "stream",
     "text": [
      "Image 1 shape: (100, 100, 3)\n",
      "Image 2 shape: (100, 100, 3)\n",
      "Label: 1\n"
     ]
    },
    {
     "data": {
      "image/png": "[encoded data removed]",
      "text/plain": [
       "<Figure size 1000x500 with 2 Axes>"
      ]
     },
     "metadata": {},
     "output_type": "display_data"
    }
   ],
   "source": [
    "# Display an example sample with two iamges and the label\n",
    "\n",
    "# Display an example sample with two images and the label\n",
    "example_sample = next(iter(data))\n",
    "\n",
    "# Unpack the example sample\n",
    "example_pair, example_label = example_sample\n",
    "\n",
    "# Display the images and the label\n",
    "plt.figure(figsize=(10, 5))\n",
    "\n",
    "# Display the first image in the pair\n",
    "print(\"Image 1 shape:\", example_pair[0][0].shape)\n",
    "plt.subplot(1, 2, 1)\n",
    "plt.imshow(example_pair[0][0])\n",
    "plt.title(\"Image 1\")\n",
    "plt.axis(\"off\")\n",
    "\n",
    "# Display the second image in the pair\n",
    "print(\"Image 2 shape:\", example_pair[0][1].shape)\n",
    "plt.subplot(1, 2, 2)\n",
    "plt.imshow(example_pair[0][1])\n",
    "plt.title(\"Image 2\")\n",
    "plt.axis(\"off\")\n",
    "\n",
    "# Print the label\n",
    "print(\"Label:\", example_label[0].numpy())\n",
    "\n",
    "plt.show()"
   ]
  },
  {
   "cell_type": "code",
   "execution_count": 9,
   "metadata": {},
   "outputs": [],
   "source": [
    "# Create Training and Testing datasets by percentage\n",
    "\n",
    "train_data = data.take(int(0.7 * len(data))) # 70% of the data for training\n",
    "val_data = data.skip(int(0.7 * len(data))).take(int(0.1 * len(data))) # 10% of the data for validation\n",
    "test_data = data.skip(int(0.8 * len(data))) # 20% of the data for testing\n",
    "\n"
   ]
  },
  {
   "cell_type": "code",
   "execution_count": 10,
   "metadata": {},
   "outputs": [
    {
     "name": "stdout",
     "output_type": "stream",
     "text": [
      "Size of original dataset: 40\n",
      "Size of training dataset: 28\n",
      "Size of test dataset: 8\n"
     ]
    }
   ],
   "source": [
    "print(\"Size of original dataset:\", len(data))\n",
    "print(\"Size of training dataset:\", len(list(train_data.as_numpy_iterator())))\n",
    "print(\"Size of test dataset:\", len(list(test_data.as_numpy_iterator())))"
   ]
  },
  {
   "cell_type": "code",
   "execution_count": 11,
   "metadata": {},
   "outputs": [
    {
     "name": "stdout",
     "output_type": "stream",
     "text": [
      "Shape of example anchor images : (16, 100, 100, 3)\n",
      "Shape of example validation images : (16, 100, 100, 3)\n",
      "Shape of example labels: (16,)\n"
     ]
    }
   ],
   "source": [
    "# Take an example batch from the training set\n",
    "example_batch = next(iter(train_data))\n",
    "\n",
    "# Unpack the example batch\n",
    "example_pairs, example_labels = example_batch\n",
    "example_input, example_validation = example_pairs[:, 0], example_pairs[:, 1]\n",
    "\n",
    "\n",
    "# Display the shapes of the example batch\n",
    "print(\"Shape of example anchor images :\", example_input.shape)\n",
    "print(\"Shape of example validation images :\", example_validation.shape)\n",
    "print(\"Shape of example labels:\", example_labels.shape)"
   ]
  },
  {
   "cell_type": "markdown",
   "metadata": {},
   "source": [
    "# Part 3: Build layers in model\n",
    "\n",
    "## Objective\n",
    "\n",
    "- Build an embedding layer / Encode Layer\n",
    "- Create an L1 Distance layer\n",
    "- Complie the Siamase Network"
   ]
  },
  {
   "cell_type": "markdown",
   "metadata": {},
   "source": [
    "## 3.1 Build an Embedding Layer"
   ]
  },
  {
   "cell_type": "markdown",
   "metadata": {},
   "source": [
    "Recall th idea, we have two stream of information (we  pass in two images: the anchor and the positive/negative image) -> Each stream will pass through an embedding layer to get the feature vector of the image -> Tow feature vectors will be used to calculate the distance between the two images at the Distance layer (here we use L1 distance).\n",
    "\n",
    "\n",
    "Here is the Siamese Network architecture we are going to build:\n",
    "\n",
    "![SiameseStructure](assets/images/SiameseStructure.png)\n",
    "\n",
    "In the paper, it use input size of 105x105, but we will use 100x100 still okey. Therefore, **some numbers may not match exactly to the paper**"
   ]
  },
  {
   "cell_type": "code",
   "execution_count": 12,
   "metadata": {},
   "outputs": [],
   "source": [
    "def make_embedding() :\n",
    "\n",
    "    #Create the input layer\n",
    "    inp = Input(shape=(100, 100, 3), name='input_image') # 100x100 image size, 3 channels color\n",
    "\n",
    "   \n",
    "    ### First Block ###\n",
    "    # Next layer is a convolutional layer 64 filters, kernel size of 10x10, and ReLU activation\n",
    "    c1= Conv2D(64, (10,10), activation='relu')(inp) # c1 stands for convolutional layer 1\n",
    "\n",
    "    # Next layer is a max pooling layer with a pool size of 2x2\n",
    "    m1 = MaxPooling2D(64, (2,2), padding='same')(c1) \n",
    "\n",
    "\n",
    "\n",
    "    ### Second Block ###\n",
    "    # Next layer is a convolutional layer 128 filters, kernel size of 7x7, and ReLU activation\n",
    "    c2 = Conv2D(128, (7,7), activation='relu')(m1)\n",
    "    # Next layer is a max pooling layer with a pool size of 2x2\n",
    "    m2 = MaxPooling2D(64, (2,2), padding='same')(c2)\n",
    "\n",
    "\n",
    "\n",
    "    ### Third Block ###\n",
    "    c3 = Conv2D(128, (4,4), activation='relu')(m2)\n",
    "    m3 = MaxPooling2D(64, (2,2), padding='same')(c3)\n",
    "\n",
    "    ### Fourth Block ###\n",
    "    c4 = Conv2D(256, (4,4), activation='relu')(m3)\n",
    "    f1 = Flatten()(c4) # Flatten the output of the convolutional layer to feed it to the dense layer\n",
    "    d1 = Dense(4096, activation='sigmoid')(f1) # Dense layer with 4096 neurons and sigmoid activation\n",
    "\n",
    "    \n",
    "    return Model(inputs=[inp], outputs=[d1], name='Siamese__embedding_layer')"
   ]
  },
  {
   "cell_type": "markdown",
   "metadata": {},
   "source": [
    "As show in the above image, the output of the Embedding layer is a 4096-dimensional feature vector. Two streams of information will pass through this Embedding layer then we get two 4096-dimensional feature vectors for each image. **Basicaly, we are converting the face image to a 4096-dimensional feature vector.**"
   ]
  },
  {
   "cell_type": "code",
   "execution_count": 13,
   "metadata": {},
   "outputs": [
    {
     "data": {
      "text/html": [
       "<pre style=\"white-space:pre;overflow-x:auto;line-height:normal;font-family:Menlo,'DejaVu Sans Mono',consolas,'Courier New',monospace\"><span style=\"font-weight: bold\">Model: \"Siamese__embedding_layer\"</span>\n",
       "</pre>\n"
      ],
      "text/plain": [
       "\u001b[1mModel: \"Siamese__embedding_layer\"\u001b[0m\n"
      ]
     },
     "metadata": {},
     "output_type": "display_data"
    },
    {
     "data": {
      "text/html": [
       "<pre style=\"white-space:pre;overflow-x:auto;line-height:normal;font-family:Menlo,'DejaVu Sans Mono',consolas,'Courier New',monospace\">┏━━━━━━━━━━━━━━━━━━━━━━━━━━━━━━━━━┳━━━━━━━━━━━━━━━━━━━━━━━━┳━━━━━━━━━━━━━━━┓\n",
       "┃<span style=\"font-weight: bold\"> Layer (type)                    </span>┃<span style=\"font-weight: bold\"> Output Shape           </span>┃<span style=\"font-weight: bold\">       Param # </span>┃\n",
       "┡━━━━━━━━━━━━━━━━━━━━━━━━━━━━━━━━━╇━━━━━━━━━━━━━━━━━━━━━━━━╇━━━━━━━━━━━━━━━┩\n",
       "│ input_image (<span style=\"color: #0087ff; text-decoration-color: #0087ff\">InputLayer</span>)        │ (<span style=\"color: #00d7ff; text-decoration-color: #00d7ff\">None</span>, <span style=\"color: #00af00; text-decoration-color: #00af00\">100</span>, <span style=\"color: #00af00; text-decoration-color: #00af00\">100</span>, <span style=\"color: #00af00; text-decoration-color: #00af00\">3</span>)    │             <span style=\"color: #00af00; text-decoration-color: #00af00\">0</span> │\n",
       "├─────────────────────────────────┼────────────────────────┼───────────────┤\n",
       "│ conv2d (<span style=\"color: #0087ff; text-decoration-color: #0087ff\">Conv2D</span>)                 │ (<span style=\"color: #00d7ff; text-decoration-color: #00d7ff\">None</span>, <span style=\"color: #00af00; text-decoration-color: #00af00\">91</span>, <span style=\"color: #00af00; text-decoration-color: #00af00\">91</span>, <span style=\"color: #00af00; text-decoration-color: #00af00\">64</span>)     │        <span style=\"color: #00af00; text-decoration-color: #00af00\">19,264</span> │\n",
       "├─────────────────────────────────┼────────────────────────┼───────────────┤\n",
       "│ max_pooling2d (<span style=\"color: #0087ff; text-decoration-color: #0087ff\">MaxPooling2D</span>)    │ (<span style=\"color: #00d7ff; text-decoration-color: #00d7ff\">None</span>, <span style=\"color: #00af00; text-decoration-color: #00af00\">46</span>, <span style=\"color: #00af00; text-decoration-color: #00af00\">46</span>, <span style=\"color: #00af00; text-decoration-color: #00af00\">64</span>)     │             <span style=\"color: #00af00; text-decoration-color: #00af00\">0</span> │\n",
       "├─────────────────────────────────┼────────────────────────┼───────────────┤\n",
       "│ conv2d_1 (<span style=\"color: #0087ff; text-decoration-color: #0087ff\">Conv2D</span>)               │ (<span style=\"color: #00d7ff; text-decoration-color: #00d7ff\">None</span>, <span style=\"color: #00af00; text-decoration-color: #00af00\">40</span>, <span style=\"color: #00af00; text-decoration-color: #00af00\">40</span>, <span style=\"color: #00af00; text-decoration-color: #00af00\">128</span>)    │       <span style=\"color: #00af00; text-decoration-color: #00af00\">401,536</span> │\n",
       "├─────────────────────────────────┼────────────────────────┼───────────────┤\n",
       "│ max_pooling2d_1 (<span style=\"color: #0087ff; text-decoration-color: #0087ff\">MaxPooling2D</span>)  │ (<span style=\"color: #00d7ff; text-decoration-color: #00d7ff\">None</span>, <span style=\"color: #00af00; text-decoration-color: #00af00\">20</span>, <span style=\"color: #00af00; text-decoration-color: #00af00\">20</span>, <span style=\"color: #00af00; text-decoration-color: #00af00\">128</span>)    │             <span style=\"color: #00af00; text-decoration-color: #00af00\">0</span> │\n",
       "├─────────────────────────────────┼────────────────────────┼───────────────┤\n",
       "│ conv2d_2 (<span style=\"color: #0087ff; text-decoration-color: #0087ff\">Conv2D</span>)               │ (<span style=\"color: #00d7ff; text-decoration-color: #00d7ff\">None</span>, <span style=\"color: #00af00; text-decoration-color: #00af00\">17</span>, <span style=\"color: #00af00; text-decoration-color: #00af00\">17</span>, <span style=\"color: #00af00; text-decoration-color: #00af00\">128</span>)    │       <span style=\"color: #00af00; text-decoration-color: #00af00\">262,272</span> │\n",
       "├─────────────────────────────────┼────────────────────────┼───────────────┤\n",
       "│ max_pooling2d_2 (<span style=\"color: #0087ff; text-decoration-color: #0087ff\">MaxPooling2D</span>)  │ (<span style=\"color: #00d7ff; text-decoration-color: #00d7ff\">None</span>, <span style=\"color: #00af00; text-decoration-color: #00af00\">9</span>, <span style=\"color: #00af00; text-decoration-color: #00af00\">9</span>, <span style=\"color: #00af00; text-decoration-color: #00af00\">128</span>)      │             <span style=\"color: #00af00; text-decoration-color: #00af00\">0</span> │\n",
       "├─────────────────────────────────┼────────────────────────┼───────────────┤\n",
       "│ conv2d_3 (<span style=\"color: #0087ff; text-decoration-color: #0087ff\">Conv2D</span>)               │ (<span style=\"color: #00d7ff; text-decoration-color: #00d7ff\">None</span>, <span style=\"color: #00af00; text-decoration-color: #00af00\">6</span>, <span style=\"color: #00af00; text-decoration-color: #00af00\">6</span>, <span style=\"color: #00af00; text-decoration-color: #00af00\">256</span>)      │       <span style=\"color: #00af00; text-decoration-color: #00af00\">524,544</span> │\n",
       "├─────────────────────────────────┼────────────────────────┼───────────────┤\n",
       "│ flatten (<span style=\"color: #0087ff; text-decoration-color: #0087ff\">Flatten</span>)               │ (<span style=\"color: #00d7ff; text-decoration-color: #00d7ff\">None</span>, <span style=\"color: #00af00; text-decoration-color: #00af00\">9216</span>)           │             <span style=\"color: #00af00; text-decoration-color: #00af00\">0</span> │\n",
       "├─────────────────────────────────┼────────────────────────┼───────────────┤\n",
       "│ dense (<span style=\"color: #0087ff; text-decoration-color: #0087ff\">Dense</span>)                   │ (<span style=\"color: #00d7ff; text-decoration-color: #00d7ff\">None</span>, <span style=\"color: #00af00; text-decoration-color: #00af00\">4096</span>)           │    <span style=\"color: #00af00; text-decoration-color: #00af00\">37,752,832</span> │\n",
       "└─────────────────────────────────┴────────────────────────┴───────────────┘\n",
       "</pre>\n"
      ],
      "text/plain": [
       "┏━━━━━━━━━━━━━━━━━━━━━━━━━━━━━━━━━┳━━━━━━━━━━━━━━━━━━━━━━━━┳━━━━━━━━━━━━━━━┓\n",
       "┃\u001b[1m \u001b[0m\u001b[1mLayer (type)                   \u001b[0m\u001b[1m \u001b[0m┃\u001b[1m \u001b[0m\u001b[1mOutput Shape          \u001b[0m\u001b[1m \u001b[0m┃\u001b[1m \u001b[0m\u001b[1m      Param #\u001b[0m\u001b[1m \u001b[0m┃\n",
       "┡━━━━━━━━━━━━━━━━━━━━━━━━━━━━━━━━━╇━━━━━━━━━━━━━━━━━━━━━━━━╇━━━━━━━━━━━━━━━┩\n",
       "│ input_image (\u001b[38;5;33mInputLayer\u001b[0m)        │ (\u001b[38;5;45mNone\u001b[0m, \u001b[38;5;34m100\u001b[0m, \u001b[38;5;34m100\u001b[0m, \u001b[38;5;34m3\u001b[0m)    │             \u001b[38;5;34m0\u001b[0m │\n",
       "├─────────────────────────────────┼────────────────────────┼───────────────┤\n",
       "│ conv2d (\u001b[38;5;33mConv2D\u001b[0m)                 │ (\u001b[38;5;45mNone\u001b[0m, \u001b[38;5;34m91\u001b[0m, \u001b[38;5;34m91\u001b[0m, \u001b[38;5;34m64\u001b[0m)     │        \u001b[38;5;34m19,264\u001b[0m │\n",
       "├─────────────────────────────────┼────────────────────────┼───────────────┤\n",
       "│ max_pooling2d (\u001b[38;5;33mMaxPooling2D\u001b[0m)    │ (\u001b[38;5;45mNone\u001b[0m, \u001b[38;5;34m46\u001b[0m, \u001b[38;5;34m46\u001b[0m, \u001b[38;5;34m64\u001b[0m)     │             \u001b[38;5;34m0\u001b[0m │\n",
       "├─────────────────────────────────┼────────────────────────┼───────────────┤\n",
       "│ conv2d_1 (\u001b[38;5;33mConv2D\u001b[0m)               │ (\u001b[38;5;45mNone\u001b[0m, \u001b[38;5;34m40\u001b[0m, \u001b[38;5;34m40\u001b[0m, \u001b[38;5;34m128\u001b[0m)    │       \u001b[38;5;34m401,536\u001b[0m │\n",
       "├─────────────────────────────────┼────────────────────────┼───────────────┤\n",
       "│ max_pooling2d_1 (\u001b[38;5;33mMaxPooling2D\u001b[0m)  │ (\u001b[38;5;45mNone\u001b[0m, \u001b[38;5;34m20\u001b[0m, \u001b[38;5;34m20\u001b[0m, \u001b[38;5;34m128\u001b[0m)    │             \u001b[38;5;34m0\u001b[0m │\n",
       "├─────────────────────────────────┼────────────────────────┼───────────────┤\n",
       "│ conv2d_2 (\u001b[38;5;33mConv2D\u001b[0m)               │ (\u001b[38;5;45mNone\u001b[0m, \u001b[38;5;34m17\u001b[0m, \u001b[38;5;34m17\u001b[0m, \u001b[38;5;34m128\u001b[0m)    │       \u001b[38;5;34m262,272\u001b[0m │\n",
       "├─────────────────────────────────┼────────────────────────┼───────────────┤\n",
       "│ max_pooling2d_2 (\u001b[38;5;33mMaxPooling2D\u001b[0m)  │ (\u001b[38;5;45mNone\u001b[0m, \u001b[38;5;34m9\u001b[0m, \u001b[38;5;34m9\u001b[0m, \u001b[38;5;34m128\u001b[0m)      │             \u001b[38;5;34m0\u001b[0m │\n",
       "├─────────────────────────────────┼────────────────────────┼───────────────┤\n",
       "│ conv2d_3 (\u001b[38;5;33mConv2D\u001b[0m)               │ (\u001b[38;5;45mNone\u001b[0m, \u001b[38;5;34m6\u001b[0m, \u001b[38;5;34m6\u001b[0m, \u001b[38;5;34m256\u001b[0m)      │       \u001b[38;5;34m524,544\u001b[0m │\n",
       "├─────────────────────────────────┼────────────────────────┼───────────────┤\n",
       "│ flatten (\u001b[38;5;33mFlatten\u001b[0m)               │ (\u001b[38;5;45mNone\u001b[0m, \u001b[38;5;34m9216\u001b[0m)           │             \u001b[38;5;34m0\u001b[0m │\n",
       "├─────────────────────────────────┼────────────────────────┼───────────────┤\n",
       "│ dense (\u001b[38;5;33mDense\u001b[0m)                   │ (\u001b[38;5;45mNone\u001b[0m, \u001b[38;5;34m4096\u001b[0m)           │    \u001b[38;5;34m37,752,832\u001b[0m │\n",
       "└─────────────────────────────────┴────────────────────────┴───────────────┘\n"
      ]
     },
     "metadata": {},
     "output_type": "display_data"
    },
    {
     "data": {
      "text/html": [
       "<pre style=\"white-space:pre;overflow-x:auto;line-height:normal;font-family:Menlo,'DejaVu Sans Mono',consolas,'Courier New',monospace\"><span style=\"font-weight: bold\"> Total params: </span><span style=\"color: #00af00; text-decoration-color: #00af00\">38,960,448</span> (148.62 MB)\n",
       "</pre>\n"
      ],
      "text/plain": [
       "\u001b[1m Total params: \u001b[0m\u001b[38;5;34m38,960,448\u001b[0m (148.62 MB)\n"
      ]
     },
     "metadata": {},
     "output_type": "display_data"
    },
    {
     "data": {
      "text/html": [
       "<pre style=\"white-space:pre;overflow-x:auto;line-height:normal;font-family:Menlo,'DejaVu Sans Mono',consolas,'Courier New',monospace\"><span style=\"font-weight: bold\"> Trainable params: </span><span style=\"color: #00af00; text-decoration-color: #00af00\">38,960,448</span> (148.62 MB)\n",
       "</pre>\n"
      ],
      "text/plain": [
       "\u001b[1m Trainable params: \u001b[0m\u001b[38;5;34m38,960,448\u001b[0m (148.62 MB)\n"
      ]
     },
     "metadata": {},
     "output_type": "display_data"
    },
    {
     "data": {
      "text/html": [
       "<pre style=\"white-space:pre;overflow-x:auto;line-height:normal;font-family:Menlo,'DejaVu Sans Mono',consolas,'Courier New',monospace\"><span style=\"font-weight: bold\"> Non-trainable params: </span><span style=\"color: #00af00; text-decoration-color: #00af00\">0</span> (0.00 B)\n",
       "</pre>\n"
      ],
      "text/plain": [
       "\u001b[1m Non-trainable params: \u001b[0m\u001b[38;5;34m0\u001b[0m (0.00 B)\n"
      ]
     },
     "metadata": {},
     "output_type": "display_data"
    }
   ],
   "source": [
    "# Summary of the model\n",
    "siamese_embedding_layer = make_embedding()\n",
    "siamese_embedding_layer.summary()"
   ]
  },
  {
   "cell_type": "markdown",
   "metadata": {},
   "source": [
    "How to read from the summary table:\n",
    "\n",
    "This is a 4-dimensional tensor shape where each dimension represents, for example (None,100,100,3):\n",
    "\n",
    "- None: This represents the batch size dimension. It's set to \"None\" because it's flexible - you can feed any number of images through the network at once.\n",
    "- 100: The height of your input images (100 pixels)\n",
    "- 100: The width of your input images (100 pixels)\n",
    "- 3: The number of color channels\n",
    "\n",
    "So in plain terms, your model is expecting input images that are:\n",
    "\n",
    "- 100x100 pixels in size\n",
    "- Color in 3 channels, can be RGB, BRG or even just grayscale but duplicated 3 times to match the format.\n",
    "- Can be processed in batches of any size (that's what the None indicates)"
   ]
  },
  {
   "cell_type": "markdown",
   "metadata": {},
   "source": [
    "## 3.2 Create an L1 Distance Layer"
   ]
  },
  {
   "cell_type": "markdown",
   "metadata": {},
   "source": [
    "Compare two feature vectors to see how similiar our two images are uisng L1 distance. The L1 distance is the sum of the absolute differences between the two feature vectors.\n",
    "\n",
    "Since there is no L1 distance layer in Keras, we will create a custom layer to calculate the L1 distance. The custom layer will take two feature vectors as input and output the L1 distance between them."
   ]
  },
  {
   "cell_type": "code",
   "execution_count": 14,
   "metadata": {},
   "outputs": [],
   "source": [
    "\n",
    "class L1Dist(Layer):\n",
    "    def __init__(self, **kwargs):\n",
    "         super(L1Dist, self).__init__(**kwargs)\n",
    "    \n",
    "    def call(self,input_embedding, validation_embedding):\n",
    "        \n",
    "        # Convert inputs to tensors otherwise will meet error: unsupported operand type(s) for -: 'List' and 'List'\n",
    "        input_embedding = tf.convert_to_tensor(input_embedding)\n",
    "        validation_embedding = tf.convert_to_tensor(validation_embedding)\n",
    "        input_embedding = tf.squeeze(input_embedding, axis=0)  # Remove potential first dimension\n",
    "        validation_embedding = tf.squeeze(validation_embedding, axis=0)\n",
    "\n",
    "        # Calculate and return the L1 distance\n",
    "        return tf.math.abs(input_embedding - validation_embedding)\n",
    "    "
   ]
  },
  {
   "cell_type": "markdown",
   "metadata": {},
   "source": [
    "## 3.3 Create final Siamese Network"
   ]
  },
  {
   "cell_type": "markdown",
   "metadata": {},
   "source": [
    "We combine two above steps to make a fully Siamese model"
   ]
  },
  {
   "cell_type": "code",
   "execution_count": 15,
   "metadata": {},
   "outputs": [],
   "source": [
    "def make_siamese_network():\n",
    "\n",
    "    embedding_model = make_embedding()\n",
    "\n",
    "    # Handle input images\n",
    "    input_image = Input(shape=(100, 100, 3), name='input_image') # Anchor image\n",
    "    validation_image = Input(shape=(100, 100, 3), name='validation_image') # Positive or negative image\n",
    "\n",
    "\n",
    "    # Generate embeddings for the input images\n",
    "    \n",
    "    input_embedding = embedding_model(input_image)\n",
    "    validation_embdedding = embedding_model(validation_image)\n",
    "\n",
    "    # Combine siamese distance components\n",
    "    siamese_layer = L1Dist()\n",
    "    siamese_layer._name = 'distance'\n",
    "    distances = siamese_layer(input_embedding, validation_embdedding)\n",
    "    \n",
    "    # Classification layer \n",
    "    classifier = Dense(1, activation='sigmoid')(distances)\n",
    "    \n",
    "    \n",
    "    return Model(inputs=[input_image, validation_image], outputs=classifier, name='Fully_Siamese_Network')\n"
   ]
  },
  {
   "cell_type": "code",
   "execution_count": 16,
   "metadata": {},
   "outputs": [
    {
     "name": "stdout",
     "output_type": "stream",
     "text": [
      "WARNING:tensorflow:From c:\\Users\\Chu Trung Anh\\Desktop\\Biometric_IT4432E\\venv\\Lib\\site-packages\\keras\\src\\backend\\tensorflow\\core.py:222: The name tf.placeholder is deprecated. Please use tf.compat.v1.placeholder instead.\n",
      "\n"
     ]
    },
    {
     "data": {
      "text/html": [
       "<pre style=\"white-space:pre;overflow-x:auto;line-height:normal;font-family:Menlo,'DejaVu Sans Mono',consolas,'Courier New',monospace\"><span style=\"font-weight: bold\">Model: \"Fully_Siamese_Network\"</span>\n",
       "</pre>\n"
      ],
      "text/plain": [
       "\u001b[1mModel: \"Fully_Siamese_Network\"\u001b[0m\n"
      ]
     },
     "metadata": {},
     "output_type": "display_data"
    },
    {
     "data": {
      "text/html": [
       "<pre style=\"white-space:pre;overflow-x:auto;line-height:normal;font-family:Menlo,'DejaVu Sans Mono',consolas,'Courier New',monospace\">┏━━━━━━━━━━━━━━━━━━━━━┳━━━━━━━━━━━━━━━━━━━┳━━━━━━━━━━━━┳━━━━━━━━━━━━━━━━━━━┓\n",
       "┃<span style=\"font-weight: bold\"> Layer (type)        </span>┃<span style=\"font-weight: bold\"> Output Shape      </span>┃<span style=\"font-weight: bold\">    Param # </span>┃<span style=\"font-weight: bold\"> Connected to      </span>┃\n",
       "┡━━━━━━━━━━━━━━━━━━━━━╇━━━━━━━━━━━━━━━━━━━╇━━━━━━━━━━━━╇━━━━━━━━━━━━━━━━━━━┩\n",
       "│ input_image         │ (<span style=\"color: #00d7ff; text-decoration-color: #00d7ff\">None</span>, <span style=\"color: #00af00; text-decoration-color: #00af00\">100</span>, <span style=\"color: #00af00; text-decoration-color: #00af00\">100</span>,  │          <span style=\"color: #00af00; text-decoration-color: #00af00\">0</span> │ -                 │\n",
       "│ (<span style=\"color: #0087ff; text-decoration-color: #0087ff\">InputLayer</span>)        │ <span style=\"color: #00af00; text-decoration-color: #00af00\">3</span>)                │            │                   │\n",
       "├─────────────────────┼───────────────────┼────────────┼───────────────────┤\n",
       "│ validation_image    │ (<span style=\"color: #00d7ff; text-decoration-color: #00d7ff\">None</span>, <span style=\"color: #00af00; text-decoration-color: #00af00\">100</span>, <span style=\"color: #00af00; text-decoration-color: #00af00\">100</span>,  │          <span style=\"color: #00af00; text-decoration-color: #00af00\">0</span> │ -                 │\n",
       "│ (<span style=\"color: #0087ff; text-decoration-color: #0087ff\">InputLayer</span>)        │ <span style=\"color: #00af00; text-decoration-color: #00af00\">3</span>)                │            │                   │\n",
       "├─────────────────────┼───────────────────┼────────────┼───────────────────┤\n",
       "│ Siamese__embedding… │ (<span style=\"color: #00d7ff; text-decoration-color: #00d7ff\">None</span>, <span style=\"color: #00af00; text-decoration-color: #00af00\">4096</span>)      │ <span style=\"color: #00af00; text-decoration-color: #00af00\">38,960,448</span> │ input_image[<span style=\"color: #00af00; text-decoration-color: #00af00\">0</span>][<span style=\"color: #00af00; text-decoration-color: #00af00\">0</span>… │\n",
       "│ (<span style=\"color: #0087ff; text-decoration-color: #0087ff\">Functional</span>)        │                   │            │ validation_image… │\n",
       "├─────────────────────┼───────────────────┼────────────┼───────────────────┤\n",
       "│ l1_dist (<span style=\"color: #0087ff; text-decoration-color: #0087ff\">L1Dist</span>)    │ (<span style=\"color: #00d7ff; text-decoration-color: #00d7ff\">None</span>, <span style=\"color: #00af00; text-decoration-color: #00af00\">4096</span>)      │          <span style=\"color: #00af00; text-decoration-color: #00af00\">0</span> │ Siamese__embeddi… │\n",
       "│                     │                   │            │ Siamese__embeddi… │\n",
       "├─────────────────────┼───────────────────┼────────────┼───────────────────┤\n",
       "│ dense_2 (<span style=\"color: #0087ff; text-decoration-color: #0087ff\">Dense</span>)     │ (<span style=\"color: #00d7ff; text-decoration-color: #00d7ff\">None</span>, <span style=\"color: #00af00; text-decoration-color: #00af00\">1</span>)         │      <span style=\"color: #00af00; text-decoration-color: #00af00\">4,097</span> │ l1_dist[<span style=\"color: #00af00; text-decoration-color: #00af00\">0</span>][<span style=\"color: #00af00; text-decoration-color: #00af00\">0</span>]     │\n",
       "└─────────────────────┴───────────────────┴────────────┴───────────────────┘\n",
       "</pre>\n"
      ],
      "text/plain": [
       "┏━━━━━━━━━━━━━━━━━━━━━┳━━━━━━━━━━━━━━━━━━━┳━━━━━━━━━━━━┳━━━━━━━━━━━━━━━━━━━┓\n",
       "┃\u001b[1m \u001b[0m\u001b[1mLayer (type)       \u001b[0m\u001b[1m \u001b[0m┃\u001b[1m \u001b[0m\u001b[1mOutput Shape     \u001b[0m\u001b[1m \u001b[0m┃\u001b[1m \u001b[0m\u001b[1m   Param #\u001b[0m\u001b[1m \u001b[0m┃\u001b[1m \u001b[0m\u001b[1mConnected to     \u001b[0m\u001b[1m \u001b[0m┃\n",
       "┡━━━━━━━━━━━━━━━━━━━━━╇━━━━━━━━━━━━━━━━━━━╇━━━━━━━━━━━━╇━━━━━━━━━━━━━━━━━━━┩\n",
       "│ input_image         │ (\u001b[38;5;45mNone\u001b[0m, \u001b[38;5;34m100\u001b[0m, \u001b[38;5;34m100\u001b[0m,  │          \u001b[38;5;34m0\u001b[0m │ -                 │\n",
       "│ (\u001b[38;5;33mInputLayer\u001b[0m)        │ \u001b[38;5;34m3\u001b[0m)                │            │                   │\n",
       "├─────────────────────┼───────────────────┼────────────┼───────────────────┤\n",
       "│ validation_image    │ (\u001b[38;5;45mNone\u001b[0m, \u001b[38;5;34m100\u001b[0m, \u001b[38;5;34m100\u001b[0m,  │          \u001b[38;5;34m0\u001b[0m │ -                 │\n",
       "│ (\u001b[38;5;33mInputLayer\u001b[0m)        │ \u001b[38;5;34m3\u001b[0m)                │            │                   │\n",
       "├─────────────────────┼───────────────────┼────────────┼───────────────────┤\n",
       "│ Siamese__embedding… │ (\u001b[38;5;45mNone\u001b[0m, \u001b[38;5;34m4096\u001b[0m)      │ \u001b[38;5;34m38,960,448\u001b[0m │ input_image[\u001b[38;5;34m0\u001b[0m][\u001b[38;5;34m0\u001b[0m… │\n",
       "│ (\u001b[38;5;33mFunctional\u001b[0m)        │                   │            │ validation_image… │\n",
       "├─────────────────────┼───────────────────┼────────────┼───────────────────┤\n",
       "│ l1_dist (\u001b[38;5;33mL1Dist\u001b[0m)    │ (\u001b[38;5;45mNone\u001b[0m, \u001b[38;5;34m4096\u001b[0m)      │          \u001b[38;5;34m0\u001b[0m │ Siamese__embeddi… │\n",
       "│                     │                   │            │ Siamese__embeddi… │\n",
       "├─────────────────────┼───────────────────┼────────────┼───────────────────┤\n",
       "│ dense_2 (\u001b[38;5;33mDense\u001b[0m)     │ (\u001b[38;5;45mNone\u001b[0m, \u001b[38;5;34m1\u001b[0m)         │      \u001b[38;5;34m4,097\u001b[0m │ l1_dist[\u001b[38;5;34m0\u001b[0m][\u001b[38;5;34m0\u001b[0m]     │\n",
       "└─────────────────────┴───────────────────┴────────────┴───────────────────┘\n"
      ]
     },
     "metadata": {},
     "output_type": "display_data"
    },
    {
     "data": {
      "text/html": [
       "<pre style=\"white-space:pre;overflow-x:auto;line-height:normal;font-family:Menlo,'DejaVu Sans Mono',consolas,'Courier New',monospace\"><span style=\"font-weight: bold\"> Total params: </span><span style=\"color: #00af00; text-decoration-color: #00af00\">38,964,545</span> (148.64 MB)\n",
       "</pre>\n"
      ],
      "text/plain": [
       "\u001b[1m Total params: \u001b[0m\u001b[38;5;34m38,964,545\u001b[0m (148.64 MB)\n"
      ]
     },
     "metadata": {},
     "output_type": "display_data"
    },
    {
     "data": {
      "text/html": [
       "<pre style=\"white-space:pre;overflow-x:auto;line-height:normal;font-family:Menlo,'DejaVu Sans Mono',consolas,'Courier New',monospace\"><span style=\"font-weight: bold\"> Trainable params: </span><span style=\"color: #00af00; text-decoration-color: #00af00\">38,964,545</span> (148.64 MB)\n",
       "</pre>\n"
      ],
      "text/plain": [
       "\u001b[1m Trainable params: \u001b[0m\u001b[38;5;34m38,964,545\u001b[0m (148.64 MB)\n"
      ]
     },
     "metadata": {},
     "output_type": "display_data"
    },
    {
     "data": {
      "text/html": [
       "<pre style=\"white-space:pre;overflow-x:auto;line-height:normal;font-family:Menlo,'DejaVu Sans Mono',consolas,'Courier New',monospace\"><span style=\"font-weight: bold\"> Non-trainable params: </span><span style=\"color: #00af00; text-decoration-color: #00af00\">0</span> (0.00 B)\n",
       "</pre>\n"
      ],
      "text/plain": [
       "\u001b[1m Non-trainable params: \u001b[0m\u001b[38;5;34m0\u001b[0m (0.00 B)\n"
      ]
     },
     "metadata": {},
     "output_type": "display_data"
    }
   ],
   "source": [
    "# Create the model\n",
    "fully_siamese_network = make_siamese_network()\n",
    "fully_siamese_network.summary()"
   ]
  },
  {
   "cell_type": "markdown",
   "metadata": {},
   "source": [
    "Look at the summary table, we see that the input of the model is two images size 100,100,3. (How many images per batch is not specified, so it's flexible). The feature extraction vector (output of the Embedding layer) is **4096-dimensional**. \n",
    "The output is a **single value**, which is the distance between the two images."
   ]
  },
  {
   "cell_type": "markdown",
   "metadata": {},
   "source": [
    "# Part 4: Train the Siamese Network\n",
    "\n",
    "## Objective\n",
    "\n",
    "- Set up a loss function, set up an optimizer\n",
    "- Establish checkpoints\n",
    "- Build a Custom Training Step\n",
    "- Create a Training Loop\n",
    "- Train the model"
   ]
  },
  {
   "cell_type": "markdown",
   "metadata": {},
   "source": [
    "## 4.1 Set up a loss function and an optimizer"
   ]
  },
  {
   "cell_type": "code",
   "execution_count": 17,
   "metadata": {},
   "outputs": [],
   "source": [
    "#Define the loss function\n",
    "binary_cross_loss = tf.keras.losses.BinaryCrossentropy(from_logits=True)\n",
    "\n",
    "# from_logits=True is recommened when thr inputs to the loss function are not normalized "
   ]
  },
  {
   "cell_type": "markdown",
   "metadata": {},
   "source": [
    "What is this loss function?\n",
    "\n",
    "![LossFunction](assets/images/Siamese-network_thumbnail.webp)"
   ]
  },
  {
   "cell_type": "markdown",
   "metadata": {},
   "source": [
    "![LossFunction](assets/images/architecture-of-siamese-networks.webp)"
   ]
  },
  {
   "cell_type": "markdown",
   "metadata": {},
   "source": [
    "![LossFunction](assets/images/The-Siamese-Architecture.png)"
   ]
  },
  {
   "cell_type": "markdown",
   "metadata": {},
   "source": [
    "Beside using this Binary Crossentropy loss function, we can use other loss functions such as Contrastive Loss, Triplet Loss, etc, as this link: https://github.com/p16i/siamese-net-and-friends"
   ]
  },
  {
   "cell_type": "code",
   "execution_count": 18,
   "metadata": {},
   "outputs": [],
   "source": [
    "# Define the optimizer\n",
    "optimizer = tf.keras.optimizers.Adam(1e-4)"
   ]
  },
  {
   "cell_type": "markdown",
   "metadata": {},
   "source": [
    "There are tons of optimizer for Keras: SGD, Adam, RMSprop, Adagrad, Adadelta, Adamax, Nadam, Ftrl. We will use Adam optimizer."
   ]
  },
  {
   "cell_type": "markdown",
   "metadata": {},
   "source": [
    "## 4.2 Establish checkpoints"
   ]
  },
  {
   "cell_type": "markdown",
   "metadata": {},
   "source": [
    "This checkpoint will save the model after each epoch. In case the training process is interrupted, we can resume the training from the last checkpoint."
   ]
  },
  {
   "cell_type": "code",
   "execution_count": 19,
   "metadata": {},
   "outputs": [],
   "source": [
    "# Create model model_saved folder to store trained model if it does not exist\n",
    "os.makedirs('./model_saved', exist_ok=True)\n",
    "\n",
    "# Create training_checkpoints directory inside model_saved to store checkpoints\n",
    "checkpoint_dir = os.path.join('./model_saved', 'training_checkpoints')\n",
    "os.makedirs(checkpoint_dir, exist_ok=True)\n",
    "\n",
    "checkpoint_prefix = os.path.join(checkpoint_dir, \"ckpt\") #Prefix for the checkpoint files with unique number\n",
    "checkpoint = tf.train.Checkpoint(optimizer=optimizer, siamese_model=fully_siamese_network)\n",
    "\n",
    "# To reload the model from the checkpoint, use model.load('path_to_checkpoint'). This will\n",
    "# load pre trainweights and optimizer state into existing model"
   ]
  },
  {
   "cell_type": "markdown",
   "metadata": {},
   "source": [
    "## 4.3 Build a Custom Training Step"
   ]
  },
  {
   "cell_type": "markdown",
   "metadata": {},
   "source": [
    "In this step, we defined actual trainning steps. We train on one batch of data, one batch of data come through our training step, we go on makeing prediction -> calcualte our loss function -> calculate gradient then apply back popagation (calculate new weights and apply) through our neutral network to get the best possible model"
   ]
  },
  {
   "cell_type": "code",
   "execution_count": 20,
   "metadata": {},
   "outputs": [],
   "source": [
    "# Initialize early stopping parameters\n",
    "patience = 4\n",
    "best_val_loss = float('inf')\n",
    "patience_counter = 0\n",
    "\n",
    "@tf.function  # Annotation to indicate that complies to TensorFlow graph execution \n",
    "def train_step(batch):\n",
    "    with tf.GradientTape() as tape:\n",
    "        # Get the pairs and labels from the batch\n",
    "        pairs, labels = batch\n",
    "        input_images, validation_images = pairs[:, 0], pairs[:, 1]\n",
    "        \n",
    "        # Forward pass\n",
    "        predictions = fully_siamese_network([input_images, validation_images], training=True)\n",
    "        # Set training=True for is important since some layers will only activated when this is set to True\n",
    "        \n",
    "        # Calculate the loss\n",
    "        loss = binary_cross_loss(labels, predictions)\n",
    "        \n",
    "    # Calculate the gradients\n",
    "    gradients = tape.gradient(loss, fully_siamese_network.trainable_variables)\n",
    "    \n",
    "    # Update the weights\n",
    "    optimizer.apply_gradients(zip(gradients, fully_siamese_network.trainable_variables))\n",
    "    # Adam is a variant of stochastic gradient descent, it applies te learning rate and gradient to slightly reduce the loss function, unitll\n",
    "    # it realy near the minimum value.\n",
    "    \n",
    "    return loss\n",
    "\n",
    "#define a val_step function similar to train_step but without applying gradients. It should return the loss for the validation batch.\n",
    "def validate_step(batch):\n",
    "    # Similar to train_step but without gradient computation\n",
    "    pairs, labels = batch\n",
    "    input_images, validation_images = pairs[:, 0], pairs[:, 1]\n",
    "    predictions = fully_siamese_network([input_images, validation_images], training=False)\n",
    "    loss = binary_cross_loss(labels, predictions)\n",
    "    return loss"
   ]
  },
  {
   "cell_type": "markdown",
   "metadata": {},
   "source": [
    "Recall the batch we created before:\n"
   ]
  },
  {
   "cell_type": "code",
   "execution_count": 21,
   "metadata": {},
   "outputs": [
    {
     "name": "stdout",
     "output_type": "stream",
     "text": [
      "Shape of example anchor images : (16, 100, 100, 3)\n",
      "Shape of example validation images : (16, 100, 100, 3)\n",
      "Shape of example labels: (16,)\n"
     ]
    }
   ],
   "source": [
    "# take one testing batch from train_data\n",
    "\n",
    "example_batch = next(iter(train_data))\n",
    "example_pairs, example_labels = example_batch\n",
    "example_input, example_validation = example_pairs[:, 0], example_pairs[:, 1]\n",
    "\n",
    "\n",
    "# Display the shapes of the example batch\n",
    "print(\"Shape of example anchor images :\", example_input.shape)\n",
    "print(\"Shape of example validation images :\", example_validation.shape)\n",
    "print(\"Shape of example labels:\", example_labels.shape)"
   ]
  },
  {
   "cell_type": "markdown",
   "metadata": {},
   "source": [
    "## 4.4 Build Training Loop"
   ]
  },
  {
   "cell_type": "code",
   "execution_count": 22,
   "metadata": {},
   "outputs": [],
   "source": [
    "def train(train_data, val_data, EPOCHS):\n",
    "    global best_val_loss, patience_counter\n",
    "    for epoch in range(1, EPOCHS + 1):\n",
    "        print(f'\\nEpoch {epoch}/{EPOCHS}')\n",
    "        progressBar = tf.keras.utils.Progbar(len(train_data))\n",
    "        epoch_loss = 0\n",
    "        \n",
    "        # Training loop\n",
    "        for idx, batch in enumerate(train_data):\n",
    "            loss = train_step(batch)\n",
    "            epoch_loss += loss.numpy()\n",
    "            progressBar.update(idx + 1, [('loss', loss.numpy())])\n",
    "        \n",
    "        avg_train_loss = epoch_loss / len(train_data)\n",
    "        \n",
    "        # Validation loop\n",
    "        val_loss = 0\n",
    "        for batch in val_data:\n",
    "            loss = validate_step(batch)\n",
    "            val_loss += loss.numpy()\n",
    "        avg_val_loss = val_loss / len(val_data)\n",
    "        \n",
    "        print(f'Epoch {epoch} - Loss: {avg_train_loss:.4f} - Val Loss: {avg_val_loss:.4f}')\n",
    "        \n",
    "        # Check for early stopping\n",
    "        # when the validation loss is not improving, we stop the training\n",
    "        if avg_val_loss < best_val_loss:\n",
    "            best_val_loss = avg_val_loss\n",
    "            patience_counter = 0\n",
    "            # Save the best model\n",
    "            checkpoint.save(file_prefix=checkpoint_prefix)\n",
    "        else:\n",
    "            patience_counter += 1\n",
    "            if patience_counter >= patience:\n",
    "                print(\"Early stopping triggered.\")\n",
    "                break\n",
    "        \n",
    "        # Save checkpoint every 10 epochs\n",
    "        if epoch % 10 == 0:\n",
    "            checkpoint.save(file_prefix=checkpoint_prefix)"
   ]
  },
  {
   "cell_type": "markdown",
   "metadata": {},
   "source": [
    "## 4.5 Train the model"
   ]
  },
  {
   "cell_type": "markdown",
   "metadata": {},
   "source": [
    "What is Epoch mean in Deep Learning model training process?\n",
    "\n",
    "An epoch in deep learning means one complete pass through the entire training dataset.\n",
    "Think of it like this:\n",
    "\n",
    "- If you have 1000 training images\n",
    "- And you're training for 10 epochs\n",
    "- Your model will see all 1000 images 10 times\n",
    "\n",
    "Each epoch helps the model:\n",
    "\n",
    "- Learn patterns from the data\n",
    "- Adjust its weights and biases\n",
    "- Improve its predictions\n",
    "\n",
    "It's like reading a textbook multiple times - each pass (epoch) helps you understand the material better. However, too many epochs can lead to overfitting, where the model memorizes the training data instead of learning general patterns.\n",
    "\n",
    "**Uncomment to train the model**, after training it and save, comment the code to avoid retrain the model again., just load the model and use it for the next steps."
   ]
  },
  {
   "cell_type": "code",
   "execution_count": 23,
   "metadata": {},
   "outputs": [
    {
     "name": "stdout",
     "output_type": "stream",
     "text": [
      "\n",
      "Epoch 1/3\n"
     ]
    },
    {
     "name": "stderr",
     "output_type": "stream",
     "text": [
      "c:\\Users\\Chu Trung Anh\\Desktop\\Biometric_IT4432E\\venv\\Lib\\site-packages\\keras\\src\\models\\functional.py:238: UserWarning: The structure of `inputs` doesn't match the expected structure.\n",
      "Expected: ['input_image']\n",
      "Received: inputs=Tensor(shape=(16, 100, 100, 3))\n",
      "  warnings.warn(msg)\n",
      "c:\\Users\\Chu Trung Anh\\Desktop\\Biometric_IT4432E\\venv\\Lib\\site-packages\\keras\\src\\backend\\tensorflow\\nn.py:750: UserWarning: \"`binary_crossentropy` received `from_logits=True`, but the `output` argument was produced by a Sigmoid activation and thus does not represent logits. Was this intended?\n",
      "  output, from_logits = _get_logits(\n"
     ]
    },
    {
     "name": "stdout",
     "output_type": "stream",
     "text": [
      "\u001b[1m28/28\u001b[0m \u001b[32m━━━━━━━━━━━━━━━━━━━━\u001b[0m\u001b[37m\u001b[0m \u001b[1m42s\u001b[0m 1s/step - loss: 0.6755\n",
      "Epoch 1 - Loss: 0.6755 - Val Loss: 0.6890\n",
      "\n",
      "Epoch 2/3\n",
      "\u001b[1m28/28\u001b[0m \u001b[32m━━━━━━━━━━━━━━━━━━━━\u001b[0m\u001b[37m\u001b[0m \u001b[1m58s\u001b[0m 2s/step - loss: 0.6886\n",
      "Epoch 2 - Loss: 0.6886 - Val Loss: 0.6915\n",
      "\n",
      "Epoch 3/3\n",
      "\u001b[1m28/28\u001b[0m \u001b[32m━━━━━━━━━━━━━━━━━━━━\u001b[0m\u001b[37m\u001b[0m \u001b[1m60s\u001b[0m 2s/step - loss: 0.6903\n",
      "Epoch 3 - Loss: 0.6903 - Val Loss: 0.6888\n"
     ]
    }
   ],
   "source": [
    "# Define the number of epochs\n",
    "EPOCHS = 3 # Just give this a large number, early stopping will stop the training when needed\n",
    "\n",
    "# Train the model\n",
    "train(train_data, val_data, EPOCHS)"
   ]
  },
  {
   "cell_type": "code",
   "execution_count": 24,
   "metadata": {},
   "outputs": [
    {
     "data": {
      "text/plain": [
       "<tensorflow.python.checkpoint.checkpoint.CheckpointLoadStatus at 0x28d687666f0>"
      ]
     },
     "execution_count": 24,
     "metadata": {},
     "output_type": "execute_result"
    }
   ],
   "source": [
    "# Load the model from the checkpoint\n",
    "checkpoint.restore(tf.train.latest_checkpoint(checkpoint_dir))"
   ]
  },
  {
   "cell_type": "markdown",
   "metadata": {},
   "source": [
    "# Part 5: Envaluating Model\n",
    "\n",
    "## Objective\n",
    "\n",
    "- Evaluate the model\n",
    "- Save the model for deployment\n"
   ]
  },
  {
   "cell_type": "markdown",
   "metadata": {},
   "source": [
    "## 5.1 Envaluate the model"
   ]
  },
  {
   "cell_type": "markdown",
   "metadata": {},
   "source": [
    "In this project, we will focus on enveluating **precision** and **recall**.\n",
    "\n",
    "- Precision: The proportion of positive identifications that were actually correct.\n",
    "\n",
    "- Recall: The proportion of actual positives that were identified correctly."
   ]
  },
  {
   "cell_type": "code",
   "execution_count": 25,
   "metadata": {},
   "outputs": [],
   "source": [
    "# Import metrics to evaluate the model\n",
    "from tensorflow.keras.metrics import  Precision, Recall"
   ]
  },
  {
   "cell_type": "code",
   "execution_count": 26,
   "metadata": {},
   "outputs": [
    {
     "data": {
      "text/plain": [
       "16"
      ]
     },
     "execution_count": 26,
     "metadata": {},
     "output_type": "execute_result"
    }
   ],
   "source": [
    "# Example a batch of test data\n",
    "test_pair, test_labels = test_data.as_numpy_iterator().next()\n",
    "test_input, test_validation = test_pair[:, 0], test_pair[:, 1]\n",
    "len(test_input) # Should be 16 since we have a batch size of 16 images"
   ]
  },
  {
   "cell_type": "code",
   "execution_count": 27,
   "metadata": {},
   "outputs": [
    {
     "data": {
      "text/plain": [
       "<tf.Tensor: shape=(16, 1), dtype=float32, numpy=\n",
       "array([[0.5038862 ],\n",
       "       [0.5044619 ],\n",
       "       [0.5029775 ],\n",
       "       [0.5023479 ],\n",
       "       [0.50429857],\n",
       "       [0.5043782 ],\n",
       "       [0.5034957 ],\n",
       "       [0.5031619 ],\n",
       "       [0.50355726],\n",
       "       [0.50803363],\n",
       "       [0.5032485 ],\n",
       "       [0.5033607 ],\n",
       "       [0.5031282 ],\n",
       "       [0.502713  ],\n",
       "       [0.5034113 ],\n",
       "       [0.50256073]], dtype=float32)>"
      ]
     },
     "execution_count": 27,
     "metadata": {},
     "output_type": "execute_result"
    }
   ],
   "source": [
    "# Make predictions\n",
    "predictions = fully_siamese_network([test_input, test_validation])\n",
    "predictions\n",
    "\n",
    "# In each time, we passs in a batch (containing 16 anchor images + 16 positive/negative images) to the model, then we get 16 predictions for each"
   ]
  },
  {
   "cell_type": "code",
   "execution_count": 28,
   "metadata": {},
   "outputs": [
    {
     "data": {
      "text/plain": [
       "[1, 1, 1, 1, 1, 1, 1, 1, 1, 1, 1, 1, 1, 1, 1, 1]"
      ]
     },
     "execution_count": 28,
     "metadata": {},
     "output_type": "execute_result"
    }
   ],
   "source": [
    "# The return result for each prediction is the probability of the image pair being similar (1) or not (0), mean the return value is in the range of [0,1]\n",
    "# So, we need some post processing the results by using threshold\n",
    "res = []\n",
    "for prediction in predictions:\n",
    "    if prediction > 0.5:\n",
    "        res.append(1)\n",
    "    else:\n",
    "        res.append(0)\n",
    "\n",
    "res"
   ]
  },
  {
   "cell_type": "code",
   "execution_count": 29,
   "metadata": {},
   "outputs": [
    {
     "data": {
      "text/plain": [
       "1.0"
      ]
     },
     "execution_count": 29,
     "metadata": {},
     "output_type": "execute_result"
    }
   ],
   "source": [
    "## Recall ##\n",
    "\n",
    "# Create a metric object to evaluate the model\n",
    "recall = Recall()\n",
    "\n",
    "# Update the state of the metric object\n",
    "recall.update_state(test_labels, res)\n",
    "\n",
    "# Get the result of the metric\n",
    "recall.result().numpy()\n"
   ]
  },
  {
   "cell_type": "markdown",
   "metadata": {},
   "source": [
    "In this testing, I get the result 1.0, indicate that the model is perfect in **accuracy indentify us vs others people**. However, this is just on a batch, not the whole test_data, so not the final result"
   ]
  },
  {
   "cell_type": "code",
   "execution_count": 30,
   "metadata": {},
   "outputs": [
    {
     "data": {
      "text/plain": [
       "0.875"
      ]
     },
     "execution_count": 30,
     "metadata": {},
     "output_type": "execute_result"
    }
   ],
   "source": [
    "## Precision ##\n",
    "\n",
    "# Similiarly, we can use the Precision metric to evaluate the model\n",
    "precision = Precision()\n",
    "precision.update_state(test_labels, res)\n",
    "precision.result().numpy()"
   ]
  },
  {
   "cell_type": "markdown",
   "metadata": {},
   "source": [
    "For more intiutive, we visualize the results"
   ]
  },
  {
   "cell_type": "code",
   "execution_count": 32,
   "metadata": {},
   "outputs": [
    {
     "data": {
      "image/png": "[encoded data removed]",
      "text/plain": [
       "<Figure size 1800x800 with 2 Axes>"
      ]
     },
     "metadata": {},
     "output_type": "display_data"
    },
    {
     "name": "stdout",
     "output_type": "stream",
     "text": [
      "Same person\n"
     ]
    }
   ],
   "source": [
    "sample_in_batch = 0 # Choose the first image in the batch\n",
    "\n",
    "# Set plot size\n",
    "plt.figure(figsize=(18,8))\n",
    "\n",
    "# Set subplot. The subplot function allows you to render using a grid like format\n",
    "# The first argument is the number of rows, the second is the number of columns, \n",
    "# and the third is the index of the current plot\n",
    "plt.subplot(1,2,1)\n",
    "\n",
    "plt.imshow(test_input[sample_in_batch])\n",
    "plt.subplot(1,2,2)\n",
    "plt.imshow(test_validation[sample_in_batch])\n",
    "plt.show()\n",
    "\n",
    "# Show the label\n",
    "if (test_labels[sample_in_batch] == 1):\n",
    "    print(\"Same person\")\n",
    "else:\n",
    "    print(\"NOT the same person\")"
   ]
  },
  {
   "cell_type": "code",
   "execution_count": 33,
   "metadata": {},
   "outputs": [
    {
     "name": "stderr",
     "output_type": "stream",
     "text": [
      "c:\\Users\\Chu Trung Anh\\Desktop\\Biometric_IT4432E\\venv\\Lib\\site-packages\\keras\\src\\models\\functional.py:238: UserWarning: The structure of `inputs` doesn't match the expected structure.\n",
      "Expected: ['input_image']\n",
      "Received: inputs=Tensor(shape=(16, 100, 100, 3))\n",
      "  warnings.warn(msg)\n",
      "c:\\Users\\Chu Trung Anh\\Desktop\\Biometric_IT4432E\\venv\\Lib\\site-packages\\keras\\src\\models\\functional.py:238: UserWarning: The structure of `inputs` doesn't match the expected structure.\n",
      "Expected: ['input_image']\n",
      "Received: inputs=Tensor(shape=(8, 100, 100, 3))\n",
      "  warnings.warn(msg)\n"
     ]
    },
    {
     "data": {
      "image/png": "[encoded data removed]",
      "text/plain": [
       "<Figure size 1000x700 with 2 Axes>"
      ]
     },
     "metadata": {},
     "output_type": "display_data"
    },
    {
     "name": "stdout",
     "output_type": "stream",
     "text": [
      "Precision: 0.8333333333333334\n",
      "Recall: 1.0\n"
     ]
    }
   ],
   "source": [
    "# That is the result for an exmample batch, not we apply to the whole test data: draw the cofusion matrix and calculate the precision and recall and als\n",
    "from sklearn.metrics import precision_score, recall_score\n",
    "from sklearn.metrics import confusion_matrix, precision_score, recall_score\n",
    "import seaborn as sns\n",
    "\n",
    "\n",
    "# Create empty lists to store the predictions and labels\n",
    "predictions = []\n",
    "labels = []\n",
    "\n",
    "# Loop through the test data\n",
    "for batch in test_data:\n",
    "    # Get the input images, validation images and labels from a batch\n",
    "    test_pair, test_labels = batch\n",
    "    test_input, test_validation = test_pair[:, 0], test_pair[:, 1]\n",
    "    # Make predictions\n",
    "    preds = fully_siamese_network([test_input, test_validation])\n",
    "    # Append the predictions and labels to the lists\n",
    "    predictions.extend(preds)\n",
    "    labels.extend(test_labels) \n",
    "\n",
    "# Convert the lists to numpy arrays\n",
    "predictions = np.array(predictions)\n",
    "labels = np.array(labels)\n",
    "\n",
    "# Apply a threshold to the predictions\n",
    "threshold = 0.5\n",
    "predictions = (predictions > threshold).astype(int)\n",
    "\n",
    "\n",
    "# Calculate the confusion matrix\n",
    "cm = confusion_matrix(labels, predictions)\n",
    "\n",
    "# Plot the confusion matrix\n",
    "plt.figure(figsize=(10, 7))\n",
    "sns.heatmap(cm, annot=True, fmt='d', cmap='Blues', xticklabels=['Negative', 'Positive'], yticklabels=['Negative', 'Positive'])\n",
    "plt.xlabel('Predicted')\n",
    "plt.ylabel('Actual')\n",
    "plt.title('Confusion Matrix')\n",
    "plt.show()\n",
    "\n",
    "# Calculate precision and recall\n",
    "precision = precision_score(labels, predictions)\n",
    "recall = recall_score(labels, predictions)\n",
    "\n",
    "print(f'Precision: {precision}')\n",
    "print(f'Recall: {recall}')\n",
    "\n"
   ]
  },
  {
   "cell_type": "markdown",
   "metadata": {},
   "source": [
    "## 5.2 Save the model"
   ]
  },
  {
   "cell_type": "markdown",
   "metadata": {},
   "source": [
    "**Uncomment to save the model when run the notebook for the first time**, after that, comment the code to avoid save the model again."
   ]
  },
  {
   "cell_type": "code",
   "execution_count": 42,
   "metadata": {},
   "outputs": [
    {
     "name": "stderr",
     "output_type": "stream",
     "text": [
      "WARNING:absl:You are saving your model as an HDF5 file via `model.save()` or `keras.saving.save_model(model)`. This file format is considered legacy. We recommend using instead the native Keras format, e.g. `model.save('my_model.keras')` or `keras.saving.save_model(model, 'my_model.keras')`. \n"
     ]
    }
   ],
   "source": [
    "#First, we save our model weights\n",
    "fully_siamese_network.save('model_saved/fully_siamese_network.h5')"
   ]
  },
  {
   "cell_type": "markdown",
   "metadata": {},
   "source": [
    "Load the model from saved file"
   ]
  },
  {
   "cell_type": "code",
   "execution_count": 43,
   "metadata": {},
   "outputs": [],
   "source": [
    "## Load the model from the saved file ##\n",
    "import tensorflow as tf\n",
    "# Reload the model\n",
    "model = tf.keras.models.load_model('model_saved/fully_siamese_network.h5', \n",
    "                                   custom_objects={'L1Dist': L1Dist, 'BinaryCrossentropy': tf.losses.BinaryCrossentropy},\n",
    "                                   compile=False)\n",
    "# Without complie=false cause Warning: WARNING:absl:No training configuration found in the save file, so the model was *not* compiled. Compile it manually.\n"
   ]
  },
  {
   "cell_type": "markdown",
   "metadata": {},
   "source": [
    "load_weights method can be used to load the weight also. The save_weights() method saves only the weights, the save() method saves optmizer state as well"
   ]
  },
  {
   "cell_type": "markdown",
   "metadata": {},
   "source": [
    "The first parameter is the path to save the model, the second parameter is going to load our custom layers/objects. Because we got these inside our notebook alreadly, we do not need to do anything here, but when we deploy the model, we need to provide the custom objects to load the model correctly."
   ]
  },
  {
   "cell_type": "code",
   "execution_count": 44,
   "metadata": {},
   "outputs": [
    {
     "name": "stdout",
     "output_type": "stream",
     "text": [
      "\u001b[1m1/1\u001b[0m \u001b[32m━━━━━━━━━━━━━━━━━━━━\u001b[0m\u001b[37m\u001b[0m \u001b[1m0s\u001b[0m 459ms/step\n"
     ]
    },
    {
     "data": {
      "text/plain": [
       "array([[0.50235623],\n",
       "       [0.51523924],\n",
       "       [0.51003146],\n",
       "       [0.5117633 ],\n",
       "       [0.5066164 ],\n",
       "       [0.50458443],\n",
       "       [0.503986  ],\n",
       "       [0.50334895],\n",
       "       [0.5041813 ],\n",
       "       [0.5066429 ]], dtype=float32)"
      ]
     },
     "execution_count": 44,
     "metadata": {},
     "output_type": "execute_result"
    }
   ],
   "source": [
    "# Now to use the model, by using\n",
    "model.predict([test_input, test_validation])"
   ]
  },
  {
   "cell_type": "code",
   "execution_count": 45,
   "metadata": {},
   "outputs": [
    {
     "data": {
      "text/html": [
       "<pre style=\"white-space:pre;overflow-x:auto;line-height:normal;font-family:Menlo,'DejaVu Sans Mono',consolas,'Courier New',monospace\"><span style=\"font-weight: bold\">Model: \"Fully_Siamese_Network\"</span>\n",
       "</pre>\n"
      ],
      "text/plain": [
       "\u001b[1mModel: \"Fully_Siamese_Network\"\u001b[0m\n"
      ]
     },
     "metadata": {},
     "output_type": "display_data"
    },
    {
     "data": {
      "text/html": [
       "<pre style=\"white-space:pre;overflow-x:auto;line-height:normal;font-family:Menlo,'DejaVu Sans Mono',consolas,'Courier New',monospace\">┏━━━━━━━━━━━━━━━━━━━━━┳━━━━━━━━━━━━━━━━━━━┳━━━━━━━━━━━━┳━━━━━━━━━━━━━━━━━━━┓\n",
       "┃<span style=\"font-weight: bold\"> Layer (type)        </span>┃<span style=\"font-weight: bold\"> Output Shape      </span>┃<span style=\"font-weight: bold\">    Param # </span>┃<span style=\"font-weight: bold\"> Connected to      </span>┃\n",
       "┡━━━━━━━━━━━━━━━━━━━━━╇━━━━━━━━━━━━━━━━━━━╇━━━━━━━━━━━━╇━━━━━━━━━━━━━━━━━━━┩\n",
       "│ input_image         │ (<span style=\"color: #00d7ff; text-decoration-color: #00d7ff\">None</span>, <span style=\"color: #00af00; text-decoration-color: #00af00\">100</span>, <span style=\"color: #00af00; text-decoration-color: #00af00\">100</span>,  │          <span style=\"color: #00af00; text-decoration-color: #00af00\">0</span> │ -                 │\n",
       "│ (<span style=\"color: #0087ff; text-decoration-color: #0087ff\">InputLayer</span>)        │ <span style=\"color: #00af00; text-decoration-color: #00af00\">3</span>)                │            │                   │\n",
       "├─────────────────────┼───────────────────┼────────────┼───────────────────┤\n",
       "│ validation_image    │ (<span style=\"color: #00d7ff; text-decoration-color: #00d7ff\">None</span>, <span style=\"color: #00af00; text-decoration-color: #00af00\">100</span>, <span style=\"color: #00af00; text-decoration-color: #00af00\">100</span>,  │          <span style=\"color: #00af00; text-decoration-color: #00af00\">0</span> │ -                 │\n",
       "│ (<span style=\"color: #0087ff; text-decoration-color: #0087ff\">InputLayer</span>)        │ <span style=\"color: #00af00; text-decoration-color: #00af00\">3</span>)                │            │                   │\n",
       "├─────────────────────┼───────────────────┼────────────┼───────────────────┤\n",
       "│ Siamese__embedding… │ (<span style=\"color: #00d7ff; text-decoration-color: #00d7ff\">None</span>, <span style=\"color: #00af00; text-decoration-color: #00af00\">4096</span>)      │ <span style=\"color: #00af00; text-decoration-color: #00af00\">38,960,448</span> │ input_image[<span style=\"color: #00af00; text-decoration-color: #00af00\">0</span>][<span style=\"color: #00af00; text-decoration-color: #00af00\">0</span>… │\n",
       "│ (<span style=\"color: #0087ff; text-decoration-color: #0087ff\">Functional</span>)        │                   │            │ validation_image… │\n",
       "├─────────────────────┼───────────────────┼────────────┼───────────────────┤\n",
       "│ l1_dist (<span style=\"color: #0087ff; text-decoration-color: #0087ff\">L1Dist</span>)    │ (<span style=\"color: #00d7ff; text-decoration-color: #00d7ff\">None</span>, <span style=\"color: #00af00; text-decoration-color: #00af00\">4096</span>)      │          <span style=\"color: #00af00; text-decoration-color: #00af00\">0</span> │ Siamese__embeddi… │\n",
       "│                     │                   │            │ Siamese__embeddi… │\n",
       "├─────────────────────┼───────────────────┼────────────┼───────────────────┤\n",
       "│ dense_2 (<span style=\"color: #0087ff; text-decoration-color: #0087ff\">Dense</span>)     │ (<span style=\"color: #00d7ff; text-decoration-color: #00d7ff\">None</span>, <span style=\"color: #00af00; text-decoration-color: #00af00\">1</span>)         │      <span style=\"color: #00af00; text-decoration-color: #00af00\">4,097</span> │ l1_dist[<span style=\"color: #00af00; text-decoration-color: #00af00\">0</span>][<span style=\"color: #00af00; text-decoration-color: #00af00\">0</span>]     │\n",
       "└─────────────────────┴───────────────────┴────────────┴───────────────────┘\n",
       "</pre>\n"
      ],
      "text/plain": [
       "┏━━━━━━━━━━━━━━━━━━━━━┳━━━━━━━━━━━━━━━━━━━┳━━━━━━━━━━━━┳━━━━━━━━━━━━━━━━━━━┓\n",
       "┃\u001b[1m \u001b[0m\u001b[1mLayer (type)       \u001b[0m\u001b[1m \u001b[0m┃\u001b[1m \u001b[0m\u001b[1mOutput Shape     \u001b[0m\u001b[1m \u001b[0m┃\u001b[1m \u001b[0m\u001b[1m   Param #\u001b[0m\u001b[1m \u001b[0m┃\u001b[1m \u001b[0m\u001b[1mConnected to     \u001b[0m\u001b[1m \u001b[0m┃\n",
       "┡━━━━━━━━━━━━━━━━━━━━━╇━━━━━━━━━━━━━━━━━━━╇━━━━━━━━━━━━╇━━━━━━━━━━━━━━━━━━━┩\n",
       "│ input_image         │ (\u001b[38;5;45mNone\u001b[0m, \u001b[38;5;34m100\u001b[0m, \u001b[38;5;34m100\u001b[0m,  │          \u001b[38;5;34m0\u001b[0m │ -                 │\n",
       "│ (\u001b[38;5;33mInputLayer\u001b[0m)        │ \u001b[38;5;34m3\u001b[0m)                │            │                   │\n",
       "├─────────────────────┼───────────────────┼────────────┼───────────────────┤\n",
       "│ validation_image    │ (\u001b[38;5;45mNone\u001b[0m, \u001b[38;5;34m100\u001b[0m, \u001b[38;5;34m100\u001b[0m,  │          \u001b[38;5;34m0\u001b[0m │ -                 │\n",
       "│ (\u001b[38;5;33mInputLayer\u001b[0m)        │ \u001b[38;5;34m3\u001b[0m)                │            │                   │\n",
       "├─────────────────────┼───────────────────┼────────────┼───────────────────┤\n",
       "│ Siamese__embedding… │ (\u001b[38;5;45mNone\u001b[0m, \u001b[38;5;34m4096\u001b[0m)      │ \u001b[38;5;34m38,960,448\u001b[0m │ input_image[\u001b[38;5;34m0\u001b[0m][\u001b[38;5;34m0\u001b[0m… │\n",
       "│ (\u001b[38;5;33mFunctional\u001b[0m)        │                   │            │ validation_image… │\n",
       "├─────────────────────┼───────────────────┼────────────┼───────────────────┤\n",
       "│ l1_dist (\u001b[38;5;33mL1Dist\u001b[0m)    │ (\u001b[38;5;45mNone\u001b[0m, \u001b[38;5;34m4096\u001b[0m)      │          \u001b[38;5;34m0\u001b[0m │ Siamese__embeddi… │\n",
       "│                     │                   │            │ Siamese__embeddi… │\n",
       "├─────────────────────┼───────────────────┼────────────┼───────────────────┤\n",
       "│ dense_2 (\u001b[38;5;33mDense\u001b[0m)     │ (\u001b[38;5;45mNone\u001b[0m, \u001b[38;5;34m1\u001b[0m)         │      \u001b[38;5;34m4,097\u001b[0m │ l1_dist[\u001b[38;5;34m0\u001b[0m][\u001b[38;5;34m0\u001b[0m]     │\n",
       "└─────────────────────┴───────────────────┴────────────┴───────────────────┘\n"
      ]
     },
     "metadata": {},
     "output_type": "display_data"
    },
    {
     "data": {
      "text/html": [
       "<pre style=\"white-space:pre;overflow-x:auto;line-height:normal;font-family:Menlo,'DejaVu Sans Mono',consolas,'Courier New',monospace\"><span style=\"font-weight: bold\"> Total params: </span><span style=\"color: #00af00; text-decoration-color: #00af00\">38,964,545</span> (148.64 MB)\n",
       "</pre>\n"
      ],
      "text/plain": [
       "\u001b[1m Total params: \u001b[0m\u001b[38;5;34m38,964,545\u001b[0m (148.64 MB)\n"
      ]
     },
     "metadata": {},
     "output_type": "display_data"
    },
    {
     "data": {
      "text/html": [
       "<pre style=\"white-space:pre;overflow-x:auto;line-height:normal;font-family:Menlo,'DejaVu Sans Mono',consolas,'Courier New',monospace\"><span style=\"font-weight: bold\"> Trainable params: </span><span style=\"color: #00af00; text-decoration-color: #00af00\">38,964,545</span> (148.64 MB)\n",
       "</pre>\n"
      ],
      "text/plain": [
       "\u001b[1m Trainable params: \u001b[0m\u001b[38;5;34m38,964,545\u001b[0m (148.64 MB)\n"
      ]
     },
     "metadata": {},
     "output_type": "display_data"
    },
    {
     "data": {
      "text/html": [
       "<pre style=\"white-space:pre;overflow-x:auto;line-height:normal;font-family:Menlo,'DejaVu Sans Mono',consolas,'Courier New',monospace\"><span style=\"font-weight: bold\"> Non-trainable params: </span><span style=\"color: #00af00; text-decoration-color: #00af00\">0</span> (0.00 B)\n",
       "</pre>\n"
      ],
      "text/plain": [
       "\u001b[1m Non-trainable params: \u001b[0m\u001b[38;5;34m0\u001b[0m (0.00 B)\n"
      ]
     },
     "metadata": {},
     "output_type": "display_data"
    }
   ],
   "source": [
    "model.summary()"
   ]
  }
 ],
 "metadata": {
  "kernelspec": {
   "display_name": "venv",
   "language": "python",
   "name": "python3"
  },
  "language_info": {
   "codemirror_mode": {
    "name": "ipython",
    "version": 3
   },
   "file_extension": ".py",
   "mimetype": "text/x-python",
   "name": "python",
   "nbconvert_exporter": "python",
   "pygments_lexer": "ipython3",
   "version": "3.12.8"
  }
 },
 "nbformat": 4,
 "nbformat_minor": 2
}
